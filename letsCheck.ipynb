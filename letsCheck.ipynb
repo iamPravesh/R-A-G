{
 "cells": [
  {
   "cell_type": "code",
   "execution_count": 6,
   "metadata": {},
   "outputs": [
    {
     "name": "stdout",
     "output_type": "stream",
     "text": [
      "Requirement already satisfied: neo4j in c:\\users\\prave\\anaconda3\\lib\\site-packages (5.24.0)\n",
      "Requirement already satisfied: openai in c:\\users\\prave\\anaconda3\\lib\\site-packages (1.43.0)\n",
      "Requirement already satisfied: langchain in c:\\users\\prave\\anaconda3\\lib\\site-packages (0.2.16)\n",
      "Requirement already satisfied: tiktoken in c:\\users\\prave\\anaconda3\\lib\\site-packages (0.7.0)\n",
      "Requirement already satisfied: langchain_openai in c:\\users\\prave\\anaconda3\\lib\\site-packages (0.1.23)\n",
      "Requirement already satisfied: langchainhub in c:\\users\\prave\\anaconda3\\lib\\site-packages (0.1.21)\n",
      "Requirement already satisfied: langchain_community in c:\\users\\prave\\anaconda3\\lib\\site-packages (0.2.16)\n",
      "Requirement already satisfied: py2neo in c:\\users\\prave\\anaconda3\\lib\\site-packages (2021.2.4)\n",
      "Requirement already satisfied: pytz in c:\\users\\prave\\anaconda3\\lib\\site-packages (from neo4j) (2024.1)\n",
      "Requirement already satisfied: anyio<5,>=3.5.0 in c:\\users\\prave\\anaconda3\\lib\\site-packages (from openai) (4.2.0)\n",
      "Requirement already satisfied: distro<2,>=1.7.0 in c:\\users\\prave\\anaconda3\\lib\\site-packages (from openai) (1.9.0)\n",
      "Requirement already satisfied: httpx<1,>=0.23.0 in c:\\users\\prave\\anaconda3\\lib\\site-packages (from openai) (0.27.2)\n",
      "Requirement already satisfied: jiter<1,>=0.4.0 in c:\\users\\prave\\anaconda3\\lib\\site-packages (from openai) (0.5.0)\n",
      "Requirement already satisfied: pydantic<3,>=1.9.0 in c:\\users\\prave\\anaconda3\\lib\\site-packages (from openai) (2.9.1)\n",
      "Requirement already satisfied: sniffio in c:\\users\\prave\\anaconda3\\lib\\site-packages (from openai) (1.3.0)\n",
      "Requirement already satisfied: tqdm>4 in c:\\users\\prave\\anaconda3\\lib\\site-packages (from openai) (4.66.4)\n",
      "Requirement already satisfied: typing-extensions<5,>=4.11 in c:\\users\\prave\\anaconda3\\lib\\site-packages (from openai) (4.11.0)\n",
      "Requirement already satisfied: PyYAML>=5.3 in c:\\users\\prave\\anaconda3\\lib\\site-packages (from langchain) (6.0.1)\n",
      "Requirement already satisfied: SQLAlchemy<3,>=1.4 in c:\\users\\prave\\anaconda3\\lib\\site-packages (from langchain) (2.0.30)\n",
      "Requirement already satisfied: aiohttp<4.0.0,>=3.8.3 in c:\\users\\prave\\anaconda3\\lib\\site-packages (from langchain) (3.9.5)\n",
      "Requirement already satisfied: langchain-core<0.3.0,>=0.2.38 in c:\\users\\prave\\anaconda3\\lib\\site-packages (from langchain) (0.2.38)\n",
      "Requirement already satisfied: langchain-text-splitters<0.3.0,>=0.2.0 in c:\\users\\prave\\anaconda3\\lib\\site-packages (from langchain) (0.2.4)\n",
      "Requirement already satisfied: langsmith<0.2.0,>=0.1.17 in c:\\users\\prave\\anaconda3\\lib\\site-packages (from langchain) (0.1.114)\n",
      "Requirement already satisfied: numpy<2.0.0,>=1.26.0 in c:\\users\\prave\\anaconda3\\lib\\site-packages (from langchain) (1.26.4)\n",
      "Requirement already satisfied: requests<3,>=2 in c:\\users\\prave\\anaconda3\\lib\\site-packages (from langchain) (2.32.2)\n",
      "Requirement already satisfied: tenacity!=8.4.0,<9.0.0,>=8.1.0 in c:\\users\\prave\\anaconda3\\lib\\site-packages (from langchain) (8.2.2)\n",
      "Requirement already satisfied: regex>=2022.1.18 in c:\\users\\prave\\anaconda3\\lib\\site-packages (from tiktoken) (2023.10.3)\n",
      "Requirement already satisfied: packaging<25,>=23.2 in c:\\users\\prave\\anaconda3\\lib\\site-packages (from langchainhub) (23.2)\n",
      "Requirement already satisfied: types-requests<3.0.0.0,>=2.31.0.2 in c:\\users\\prave\\anaconda3\\lib\\site-packages (from langchainhub) (2.32.0.20240907)\n",
      "Requirement already satisfied: dataclasses-json<0.7,>=0.5.7 in c:\\users\\prave\\anaconda3\\lib\\site-packages (from langchain_community) (0.6.7)\n",
      "Requirement already satisfied: certifi in c:\\users\\prave\\anaconda3\\lib\\site-packages (from py2neo) (2024.7.4)\n",
      "Requirement already satisfied: interchange~=2021.0.4 in c:\\users\\prave\\anaconda3\\lib\\site-packages (from py2neo) (2021.0.4)\n",
      "Requirement already satisfied: monotonic in c:\\users\\prave\\anaconda3\\lib\\site-packages (from py2neo) (1.6)\n",
      "Requirement already satisfied: pansi>=2020.7.3 in c:\\users\\prave\\anaconda3\\lib\\site-packages (from py2neo) (2020.7.3)\n",
      "Requirement already satisfied: pygments>=2.0.0 in c:\\users\\prave\\anaconda3\\lib\\site-packages (from py2neo) (2.15.1)\n",
      "Requirement already satisfied: six>=1.15.0 in c:\\users\\prave\\anaconda3\\lib\\site-packages (from py2neo) (1.16.0)\n",
      "Requirement already satisfied: urllib3 in c:\\users\\prave\\anaconda3\\lib\\site-packages (from py2neo) (2.2.2)\n",
      "Requirement already satisfied: aiosignal>=1.1.2 in c:\\users\\prave\\anaconda3\\lib\\site-packages (from aiohttp<4.0.0,>=3.8.3->langchain) (1.2.0)\n",
      "Requirement already satisfied: attrs>=17.3.0 in c:\\users\\prave\\anaconda3\\lib\\site-packages (from aiohttp<4.0.0,>=3.8.3->langchain) (23.1.0)\n",
      "Requirement already satisfied: frozenlist>=1.1.1 in c:\\users\\prave\\anaconda3\\lib\\site-packages (from aiohttp<4.0.0,>=3.8.3->langchain) (1.4.0)\n",
      "Requirement already satisfied: multidict<7.0,>=4.5 in c:\\users\\prave\\anaconda3\\lib\\site-packages (from aiohttp<4.0.0,>=3.8.3->langchain) (6.0.4)\n",
      "Requirement already satisfied: yarl<2.0,>=1.0 in c:\\users\\prave\\anaconda3\\lib\\site-packages (from aiohttp<4.0.0,>=3.8.3->langchain) (1.9.3)\n",
      "Requirement already satisfied: idna>=2.8 in c:\\users\\prave\\anaconda3\\lib\\site-packages (from anyio<5,>=3.5.0->openai) (3.7)\n",
      "Requirement already satisfied: marshmallow<4.0.0,>=3.18.0 in c:\\users\\prave\\anaconda3\\lib\\site-packages (from dataclasses-json<0.7,>=0.5.7->langchain_community) (3.22.0)\n",
      "Requirement already satisfied: typing-inspect<1,>=0.4.0 in c:\\users\\prave\\anaconda3\\lib\\site-packages (from dataclasses-json<0.7,>=0.5.7->langchain_community) (0.9.0)\n",
      "Requirement already satisfied: httpcore==1.* in c:\\users\\prave\\anaconda3\\lib\\site-packages (from httpx<1,>=0.23.0->openai) (1.0.5)\n",
      "Requirement already satisfied: h11<0.15,>=0.13 in c:\\users\\prave\\anaconda3\\lib\\site-packages (from httpcore==1.*->httpx<1,>=0.23.0->openai) (0.14.0)\n",
      "Requirement already satisfied: jsonpatch<2.0,>=1.33 in c:\\users\\prave\\anaconda3\\lib\\site-packages (from langchain-core<0.3.0,>=0.2.38->langchain) (1.33)\n",
      "Requirement already satisfied: orjson<4.0.0,>=3.9.14 in c:\\users\\prave\\anaconda3\\lib\\site-packages (from langsmith<0.2.0,>=0.1.17->langchain) (3.10.7)\n",
      "Requirement already satisfied: annotated-types>=0.6.0 in c:\\users\\prave\\anaconda3\\lib\\site-packages (from pydantic<3,>=1.9.0->openai) (0.6.0)\n",
      "Requirement already satisfied: pydantic-core==2.23.3 in c:\\users\\prave\\anaconda3\\lib\\site-packages (from pydantic<3,>=1.9.0->openai) (2.23.3)\n",
      "Requirement already satisfied: charset-normalizer<4,>=2 in c:\\users\\prave\\anaconda3\\lib\\site-packages (from requests<3,>=2->langchain) (2.0.4)\n",
      "Requirement already satisfied: greenlet!=0.4.17 in c:\\users\\prave\\anaconda3\\lib\\site-packages (from SQLAlchemy<3,>=1.4->langchain) (3.0.1)\n",
      "Requirement already satisfied: colorama in c:\\users\\prave\\anaconda3\\lib\\site-packages (from tqdm>4->openai) (0.4.6)\n",
      "Requirement already satisfied: jsonpointer>=1.9 in c:\\users\\prave\\anaconda3\\lib\\site-packages (from jsonpatch<2.0,>=1.33->langchain-core<0.3.0,>=0.2.38->langchain) (2.1)\n",
      "Requirement already satisfied: mypy-extensions>=0.3.0 in c:\\users\\prave\\anaconda3\\lib\\site-packages (from typing-inspect<1,>=0.4.0->dataclasses-json<0.7,>=0.5.7->langchain_community) (1.0.0)\n",
      "Note: you may need to restart the kernel to use updated packages.\n"
     ]
    }
   ],
   "source": [
    "%pip install neo4j openai langchain tiktoken langchain_openai langchainhub langchain_community py2neo\n",
    "\n",
    "from langchain_community.graphs import Neo4jGraph\n",
    "from py2neo import Graph\n",
    "\n",
    "url = \"neo4j+s://b26b71fa.databases.neo4j.io\"\n",
    "user = \"neo4j\"\n",
    "password = \"YWpXBbSXHIcloDAhR_ZfTo9iR6jLzFIwyux_bNBU6lA\"\n",
    "\n",
    "graph = Graph(\"neo4j+s://b26b71fa.databases.neo4j.io\", auth=(\"neo4j\", \"YWpXBbSXHIcloDAhR_ZfTo9iR6jLzFIwyux_bNBU6lA\"))"
   ]
  },
  {
   "cell_type": "code",
   "execution_count": 7,
   "metadata": {},
   "outputs": [
    {
     "name": "stdout",
     "output_type": "stream",
     "text": [
      "CREATE (catalog:Microservice {name: 'CatalogService', technology: 'Java'}), (order:Microservice {name: 'OrderService', technology: 'Python'}), (user:Microservice {name: 'UserService', technology: 'Go'}), (payment:Microservice {name: 'PaymentService', technology: 'Node.js'}), (inventory:Microservice {name: 'InventoryService', technology: 'Java'}), (shipping:Microservice {name: 'ShippingService', technology: 'Python'}), (review:Microservice {name: 'ReviewService', technology: 'Go'}), (recommendation:Microservice {name: 'RecommendationService', technology: 'Node.js'}), (auth:Microservice {name: 'AuthService', technology: 'Node.js'}), (db:Dependency {name: 'Database', type: 'SQL'}), (cache:Dependency {name: 'Cache', type: 'In-memory'}), (mq:Dependency {name: 'MessageQueue', type: 'Pub-Sub'}), (api:Dependency {name: 'ExternalAPI', type: 'REST'}), (bugFixCatalog:Task {name: 'BugFix', description: 'Fix bug in CatalogService', status: 'Open'}), (featureAddOrder:Task {name: 'FeatureAdd', description: 'Add feature to OrderService', status: 'In Progress'}), (refactorUser:Task {name: 'Refactor', description: 'Refactor UserService', status: 'Completed'}), (optimizePayment:Task {name: 'Optimize', description: 'Optimize PaymentService', status: 'Open'}), (updateInventory:Task {name: 'Update', description: 'Update InventoryService', status: 'In Progress'}), (enhanceShipping:Task {name: 'Enhance', description: 'Enhance ShippingService', status: 'Completed'}), (reviewFix:Task {name: 'ReviewFix', description: 'Fix ReviewService', status: 'Open'}), (recommendationFeature:Task {name: 'RecommendationFeature', description: 'Add feature to RecommendationService', status: 'In Progress'}), (optimizeAuth:Task {name: 'Optimize', description: 'Optimize AuthService', status: 'Open'}), (teamA:Team {name: 'TeamA'}), (teamB:Team {name: 'TeamB'}), (teamC:Team {name: 'TeamC'}), (teamD:Team {name: 'TeamD'}), (alice:Person {name: 'Alice'}), (bob:Person {name: 'Bob'}), (charlie:Person {name: 'Charlie'}), (diana:Person {name: 'Diana'}), (eva:Person {name: 'Eva'}), (frank:Person {name: 'Frank'}), (catalog)-[:DEPENDS_ON]->(db), (order)-[:DEPENDS_ON]->(db), (user)-[:DEPENDS_ON]->(db), (payment)-[:DEPENDS_ON]->(db), (inventory)-[:DEPENDS_ON]->(db), (shipping)-[:DEPENDS_ON]->(mq), (review)-[:DEPENDS_ON]->(cache), (recommendation)-[:DEPENDS_ON]->(api), (auth)-[:DEPENDS_ON]->(db), (order)-[:DEPENDS_ON]->(inventory), (order)-[:DEPENDS_ON]->(shipping), (order)-[:DEPENDS_ON]->(payment), (catalog)-[:DEPENDS_ON]->(review), (catalog)-[:DEPENDS_ON]->(recommendation), (user)-[:DEPENDS_ON]->(auth), (payment)-[:DEPENDS_ON]->(auth), (shipping)-[:DEPENDS_ON]->(auth), (catalog)-[:MAINTAINED_BY]->(teamA), (order)-[:MAINTAINED_BY]->(teamB), (user)-[:MAINTAINED_BY]->(teamC), (payment)-[:MAINTAINED_BY]->(teamD), (inventory)-[:MAINTAINED_BY]->(teamA), (shipping)-[:MAINTAINED_BY]->(teamB), (review)-[:MAINTAINED_BY]->(teamC), (recommendation)-[:MAINTAINED_BY]->(teamD), (auth)-[:MAINTAINED_BY]->(teamA), (bugFixCatalog)-[:ASSIGNED_TO]->(teamA), (featureAddOrder)-[:ASSIGNED_TO]->(teamB), (refactorUser)-[:ASSIGNED_TO]->(teamC), (optimizePayment)-[:ASSIGNED_TO]->(teamD), (updateInventory)-[:ASSIGNED_TO]->(teamA), (enhanceShipping)-[:ASSIGNED_TO]->(teamB), (reviewFix)-[:ASSIGNED_TO]->(teamC), (recommendationFeature)-[:ASSIGNED_TO]->(teamD), (optimizeAuth)-[:ASSIGNED_TO]->(teamA), (bugFixCatalog)-[:LINKED_TO]->(catalog), (featureAddOrder)-[:LINKED_TO]->(order), (refactorUser)-[:LINKED_TO]->(user), (optimizePayment)-[:LINKED_TO]->(payment), (updateInventory)-[:LINKED_TO]->(inventory), (enhanceShipping)-[:LINKED_TO]->(shipping), (reviewFix)-[:LINKED_TO]->(review), (recommendationFeature)-[:LINKED_TO]->(recommendation), (optimizeAuth)-[:LINKED_TO]->(auth), (alice)-[:MEMBER_OF]->(teamA), (bob)-[:MEMBER_OF]->(teamB), (charlie)-[:MEMBER_OF]->(teamC), (diana)-[:MEMBER_OF]->(teamD), (eva)-[:MEMBER_OF]->(teamA), (frank)-[:MEMBER_OF]->(teamB), (alice)-[:LEAD_OF]->(teamA), (bob)-[:LEAD_OF]->(teamB), (charlie)-[:LEAD_OF]->(teamC), (diana)-[:LEAD_OF]->(teamD)\n"
     ]
    }
   ],
   "source": [
    "import requests\n",
    "\n",
    "url = \"https://gist.githubusercontent.com/tomasonjo/08dc8ba0e19d592c4c3cde40dd6abcc3/raw/da8882249af3e819a80debf3160ebbb3513ee962/microservices.json\"\n",
    "import_query = requests.get(url).json()['query']\n",
    "print(import_query)"
   ]
  },
  {
   "cell_type": "code",
   "execution_count": 8,
   "metadata": {},
   "outputs": [
    {
     "name": "stderr",
     "output_type": "stream",
     "text": [
      "c:\\Users\\prave\\anaconda3\\Lib\\site-packages\\transformers\\tokenization_utils_base.py:1601: FutureWarning: `clean_up_tokenization_spaces` was not set. It will be set to `True` by default. This behavior will be depracted in transformers v4.45, and will be then set to `False` by default. For more details check this issue: https://github.com/huggingface/transformers/issues/31884\n",
      "  warnings.warn(\n"
     ]
    }
   ],
   "source": [
    "from langchain_community.vectorstores.neo4j_vector import Neo4jVector\n",
    "from langchain_openai import OpenAIEmbeddings\n",
    "from langchain.embeddings.huggingface import HuggingFaceEmbeddings\n",
    "from py2neo import Graph\n",
    "from sentence_transformers import SentenceTransformer\n",
    "from transformers import GPTNeoForCausalLM, AutoTokenizer\n",
    "\n",
    "hf_embeddings = HuggingFaceEmbeddings(model_name=\"sentence-transformers/all-MiniLM-L6-v2\")\n",
    "\n",
    "embedding_model = SentenceTransformer('all-MiniLM-L6-v2')\n",
    "tokenizer = AutoTokenizer.from_pretrained(\"EleutherAI/gpt-neo-125M\")\n",
    "gpt_neo = GPTNeoForCausalLM.from_pretrained(\"EleutherAI/gpt-neo-125M\")\n",
    "\n",
    "vector_index = Neo4jVector.from_existing_graph(\n",
    "    hf_embeddings,\n",
    "    url=\"neo4j+s://b26b71fa.databases.neo4j.io\",\n",
    "    username=\"neo4j\",\n",
    "    password=\"YWpXBbSXHIcloDAhR_ZfTo9iR6jLzFIwyux_bNBU6lA\",\n",
    "    index_name='tasks',\n",
    "    node_label=\"Task\",\n",
    "    text_node_properties=['name', 'description', 'status'],\n",
    "    embedding_node_property='embedding',\n",
    ")"
   ]
  },
  {
   "cell_type": "code",
   "execution_count": 9,
   "metadata": {},
   "outputs": [
    {
     "name": "stdout",
     "output_type": "stream",
     "text": [
      "\n",
      "name: ReviewFix\n",
      "description: Fix ReviewService\n",
      "status: Open\n"
     ]
    }
   ],
   "source": [
    "response = vector_index.similarity_search(\n",
    "    \"ReviewFix\",\n",
    ")\n",
    "print(response[0].page_content)"
   ]
  },
  {
   "cell_type": "code",
   "execution_count": 11,
   "metadata": {},
   "outputs": [
    {
     "name": "stderr",
     "output_type": "stream",
     "text": [
      "c:\\Users\\prave\\anaconda3\\Lib\\site-packages\\transformers\\tokenization_utils_base.py:1601: FutureWarning: `clean_up_tokenization_spaces` was not set. It will be set to `True` by default. This behavior will be depracted in transformers v4.45, and will be then set to `False` by default. For more details check this issue: https://github.com/huggingface/transformers/issues/31884\n",
      "  warnings.warn(\n",
      "Truncation was not explicitly activated but `max_length` is provided a specific value, please use `truncation=True` to explicitly truncate examples to max length. Defaulting to 'longest_first' truncation strategy. If you encode pairs of sequences (GLUE-style) with the tokenizer you can select this strategy more precisely by providing a specific strategy to `truncation`.\n",
      "Both `max_new_tokens` (=50) and `max_length`(=200) seem to have been set. `max_new_tokens` will take precedence. Please refer to the documentation for more information. (https://huggingface.co/docs/transformers/main/en/main_classes/text_generation)\n"
     ]
    },
    {
     "ename": "TypeError",
     "evalue": "can only concatenate str (not \"Document\") to str",
     "output_type": "error",
     "traceback": [
      "\u001b[1;31m---------------------------------------------------------------------------\u001b[0m",
      "\u001b[1;31mTypeError\u001b[0m                                 Traceback (most recent call last)",
      "Cell \u001b[1;32mIn[11], line 36\u001b[0m\n\u001b[0;32m     26\u001b[0m vector_qa \u001b[38;5;241m=\u001b[39m RetrievalQA\u001b[38;5;241m.\u001b[39mfrom_chain_type(\n\u001b[0;32m     27\u001b[0m     llm,\n\u001b[0;32m     28\u001b[0m     chain_type\u001b[38;5;241m=\u001b[39m\u001b[38;5;124m\"\u001b[39m\u001b[38;5;124mstuff\u001b[39m\u001b[38;5;124m\"\u001b[39m,\n\u001b[0;32m     29\u001b[0m     retriever\u001b[38;5;241m=\u001b[39mvector_index\u001b[38;5;241m.\u001b[39mas_retriever()\n\u001b[0;32m     30\u001b[0m )\n\u001b[0;32m     32\u001b[0m resonse \u001b[38;5;241m=\u001b[39m vector_qa\u001b[38;5;241m.\u001b[39minvoke(\n\u001b[0;32m     33\u001b[0m     {\u001b[38;5;124m\"\u001b[39m\u001b[38;5;124mquery\u001b[39m\u001b[38;5;124m\"\u001b[39m: \u001b[38;5;124m\"\u001b[39m\u001b[38;5;124mWhat is the status of ReviewFix?\u001b[39m\u001b[38;5;124m\"\u001b[39m}\n\u001b[0;32m     34\u001b[0m )\n\u001b[1;32m---> 36\u001b[0m \u001b[38;5;28mprint\u001b[39m(\u001b[38;5;124m\"\u001b[39m\u001b[38;5;124mresponse: \u001b[39m\u001b[38;5;124m\"\u001b[39m \u001b[38;5;241m+\u001b[39m response[\u001b[38;5;241m0\u001b[39m])\n",
      "\u001b[1;31mTypeError\u001b[0m: can only concatenate str (not \"Document\") to str"
     ]
    }
   ],
   "source": [
    "import torch\n",
    "from langchain.chains import RetrievalQA\n",
    "# from langchain.vectorstores import FIASS\n",
    "from langchain.embeddings import HuggingFaceEmbeddings\n",
    "from langchain.llms import HuggingFacePipeline\n",
    "from sentence_transformers import SentenceTransformer\n",
    "from langchain import PromptTemplate\n",
    "from transformers import pipeline\n",
    "\n",
    "tokenizer = AutoTokenizer.from_pretrained(\"EleutherAI/gpt-neo-125M\")\n",
    "gpt_neo = GPTNeoForCausalLM.from_pretrained(\"EleutherAI/gpt-neo-125M\")\n",
    "\n",
    "embedding_model = SentenceTransformer(\"all-MiniLM-L6-v2\")\n",
    "\n",
    "generator_pipeline = pipeline(\n",
    "    \"text-generation\", \n",
    "    model=gpt_neo, \n",
    "    tokenizer=tokenizer,\n",
    "    max_length=200,\n",
    "    max_new_tokens=50,\n",
    "    pad_token_id=tokenizer.eos_token_id\n",
    ")\n",
    "\n",
    "llm = HuggingFacePipeline(pipeline=generator_pipeline)\n",
    "\n",
    "vector_qa = RetrievalQA.from_chain_type(\n",
    "    llm,\n",
    "    chain_type=\"stuff\",\n",
    "    retriever=vector_index.as_retriever()\n",
    ")\n",
    "\n",
    "resonse = vector_qa.invoke(\n",
    "    {\"query\": \"What is the status of ReviewFix?\"}\n",
    ")\n",
    "\n",
    "print(\"response\")\n",
    "print(response)\n"
   ]
  }
 ],
 "metadata": {
  "kernelspec": {
   "display_name": "base",
   "language": "python",
   "name": "python3"
  },
  "language_info": {
   "codemirror_mode": {
    "name": "ipython",
    "version": 3
   },
   "file_extension": ".py",
   "mimetype": "text/x-python",
   "name": "python",
   "nbconvert_exporter": "python",
   "pygments_lexer": "ipython3",
   "version": "3.12.4"
  }
 },
 "nbformat": 4,
 "nbformat_minor": 2
}
