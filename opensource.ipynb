{
 "cells": [
  {
   "cell_type": "code",
   "execution_count": 1,
   "metadata": {},
   "outputs": [
    {
     "name": "stdout",
     "output_type": "stream",
     "text": [
      "Requirement already satisfied: py2neo in c:\\users\\prave\\anaconda3\\lib\\site-packages (2021.2.4)\n",
      "Requirement already satisfied: certifi in c:\\users\\prave\\anaconda3\\lib\\site-packages (from py2neo) (2024.7.4)\n",
      "Requirement already satisfied: interchange~=2021.0.4 in c:\\users\\prave\\anaconda3\\lib\\site-packages (from py2neo) (2021.0.4)\n",
      "Requirement already satisfied: monotonic in c:\\users\\prave\\anaconda3\\lib\\site-packages (from py2neo) (1.6)\n",
      "Requirement already satisfied: packaging in c:\\users\\prave\\anaconda3\\lib\\site-packages (from py2neo) (23.2)\n",
      "Requirement already satisfied: pansi>=2020.7.3 in c:\\users\\prave\\anaconda3\\lib\\site-packages (from py2neo) (2020.7.3)\n",
      "Requirement already satisfied: pygments>=2.0.0 in c:\\users\\prave\\anaconda3\\lib\\site-packages (from py2neo) (2.15.1)\n",
      "Requirement already satisfied: six>=1.15.0 in c:\\users\\prave\\anaconda3\\lib\\site-packages (from py2neo) (1.16.0)\n",
      "Requirement already satisfied: urllib3 in c:\\users\\prave\\anaconda3\\lib\\site-packages (from py2neo) (2.2.2)\n",
      "Requirement already satisfied: pytz in c:\\users\\prave\\anaconda3\\lib\\site-packages (from interchange~=2021.0.4->py2neo) (2024.1)\n",
      "Note: you may need to restart the kernel to use updated packages.\n"
     ]
    }
   ],
   "source": [
    "%pip install py2neo"
   ]
  },
  {
   "cell_type": "code",
   "execution_count": 2,
   "metadata": {},
   "outputs": [
    {
     "name": "stdout",
     "output_type": "stream",
     "text": [
      "[{'t': Node('Task', description='Fix bug in CatalogService', name='BugFix', status='Open')}]\n"
     ]
    }
   ],
   "source": [
    "from py2neo import Graph, Node, Relationship\n",
    "\n",
    "graph = Graph(\"neo4j+s://b26b71fa.databases.neo4j.io\", auth=(\"neo4j\", \"YWpXBbSXHIcloDAhR_ZfTo9iR6jLzFIwyux_bNBU6lA\"))\n",
    "query = \"MATCH (t:Task {name:\\\"BugFix\\\"}) RETURN t\"\n",
    "results = graph.run(query).data()\n",
    "print(results)"
   ]
  },
  {
   "cell_type": "code",
   "execution_count": 24,
   "metadata": {},
   "outputs": [
    {
     "name": "stdout",
     "output_type": "stream",
     "text": [
      "query results: Refactor, ReviewFix\n"
     ]
    },
    {
     "ename": "IndexError",
     "evalue": "list index out of range",
     "output_type": "error",
     "traceback": [
      "\u001b[1;31m---------------------------------------------------------------------------\u001b[0m",
      "\u001b[1;31mIndexError\u001b[0m                                Traceback (most recent call last)",
      "Cell \u001b[1;32mIn[24], line 59\u001b[0m\n\u001b[0;32m     56\u001b[0m     \u001b[38;5;28;01mreturn\u001b[39;00m response\n\u001b[0;32m     58\u001b[0m user_input \u001b[38;5;241m=\u001b[39m \u001b[38;5;124m\"\u001b[39m\u001b[38;5;124mTeamC\u001b[39m\u001b[38;5;124m\"\u001b[39m\n\u001b[1;32m---> 59\u001b[0m response \u001b[38;5;241m=\u001b[39m rag_pipeline(user_input)\n\u001b[0;32m     60\u001b[0m \u001b[38;5;28mprint\u001b[39m(response)\n",
      "Cell \u001b[1;32mIn[24], line 44\u001b[0m, in \u001b[0;36mrag_pipeline\u001b[1;34m(user_query)\u001b[0m\n\u001b[0;32m     41\u001b[0m \u001b[38;5;28;01mdef\u001b[39;00m \u001b[38;5;21mrag_pipeline\u001b[39m(user_query):\n\u001b[0;32m     42\u001b[0m     \u001b[38;5;66;03m# 1. Retrieve relevant books from Neo4j\u001b[39;00m\n\u001b[0;32m     43\u001b[0m     team_tasks \u001b[38;5;241m=\u001b[39m fetch_task_by_team(user_query)\n\u001b[1;32m---> 44\u001b[0m     \u001b[38;5;28mprint\u001b[39m(\u001b[38;5;124m\"\u001b[39m\u001b[38;5;124mteam taska: \u001b[39m\u001b[38;5;124m\"\u001b[39m \u001b[38;5;241m+\u001b[39m team_tasks[\u001b[38;5;241m2\u001b[39m])\n\u001b[0;32m     46\u001b[0m     \u001b[38;5;66;03m# 2. Build FAISS index on the retrieved documents\u001b[39;00m\n\u001b[0;32m     47\u001b[0m     index, documents \u001b[38;5;241m=\u001b[39m build_faiss_index(team_tasks)\n",
      "\u001b[1;31mIndexError\u001b[0m: list index out of range"
     ]
    }
   ],
   "source": [
    "import torch\n",
    "from py2neo import Graph\n",
    "from sentence_transformers import SentenceTransformer, util\n",
    "from transformers import GPTNeoForCausalLM, AutoTokenizer\n",
    "import faiss\n",
    "\n",
    "embedding_model = SentenceTransformer('all-MiniLM-L6-v2')  # Open-source embedding model\n",
    "tokenizer = AutoTokenizer.from_pretrained(\"EleutherAI/gpt-neo-125M\")\n",
    "gpt_neo = GPTNeoForCausalLM.from_pretrained(\"EleutherAI/gpt-neo-125M\")\n",
    "\n",
    "def fetch_task_by_team(team):\n",
    "    query = f\"\"\"\n",
    "    MATCH (t:Task)-[:ASSIGNED_TO]->(g:Team {{name: '{team}'}})\n",
    "    RETURN t.name AS TaskName\n",
    "    \"\"\"\n",
    "    results = graph.run(query).data()\n",
    "    print(\"query results: \" + ', '.join([record['TaskName'] for record in results]))\n",
    "    return [record['TaskName'] for record in results]\n",
    "\n",
    "def create_embedding(text):\n",
    "    return embedding_model.encode(text, convert_to_tensor=True)\n",
    "\n",
    "def build_faiss_index(documents):\n",
    "    embeddings = [create_embedding(doc) for doc in documents]\n",
    "    d = embeddings[0].shape[0]  # Get the embedding dimension\n",
    "    index = faiss.IndexFlatL2(d)  # Use L2 distance\n",
    "    index.add(torch.stack(embeddings).cpu().numpy())\n",
    "    return index, documents\n",
    "\n",
    "def search_faiss(query, index, documents):\n",
    "    query_embedding = create_embedding(query).cpu().numpy()\n",
    "    D, I = index.search(query_embedding.reshape(1, -1), k=3)\n",
    "    return [documents[i] for i in I[0]]\n",
    "\n",
    "def generate_response(retrieved_docs, user_query):\n",
    "    input_text = f\"Task Assigned to {user_query}: {', '.join(retrieved_docs)}. What is the status?\"\n",
    "    inputs = tokenizer(input_text, return_tensors=\"pt\")\n",
    "    output = gpt_neo.generate(**inputs, max_new_tokens=50)\n",
    "    return tokenizer.decode(output[0], skip_special_tokens=True)\n",
    "\n",
    "def rag_pipeline(user_query):\n",
    "    # 1. Retrieve relevant books from Neo4j\n",
    "    team_tasks = fetch_task_by_team(user_query)\n",
    "    print(\"team taska: \" + team_tasks[1])\n",
    "    \n",
    "    # 2. Build FAISS index on the retrieved documents\n",
    "    index, documents = build_faiss_index(team_tasks)\n",
    "    print(\"documents: \" + documents[1])\n",
    "    print(\"index: \" + index)\n",
    "    \n",
    "    # 3. Search FAISS for relevant matches to user query\n",
    "    retrieved_docs = search_faiss(user_query, index, documents)\n",
    "    print(\"retrieved docs: \" + retrieved_docs[1])\n",
    "    \n",
    "    # 4. Generate response using GPT-Neo\n",
    "    response = generate_response(retrieved_docs, user_query)\n",
    "    \n",
    "    return response\n",
    "\n",
    "user_input = \"TeamC\"\n",
    "response = rag_pipeline(user_input)\n",
    "print(response)"
   ]
  }
 ],
 "metadata": {
  "kernelspec": {
   "display_name": "base",
   "language": "python",
   "name": "python3"
  },
  "language_info": {
   "codemirror_mode": {
    "name": "ipython",
    "version": 3
   },
   "file_extension": ".py",
   "mimetype": "text/x-python",
   "name": "python",
   "nbconvert_exporter": "python",
   "pygments_lexer": "ipython3",
   "version": "3.12.4"
  }
 },
 "nbformat": 4,
 "nbformat_minor": 2
}
